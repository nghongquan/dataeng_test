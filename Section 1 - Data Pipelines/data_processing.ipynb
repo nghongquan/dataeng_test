{
 "cells": [
  {
   "cell_type": "code",
   "execution_count": 1,
   "id": "8a5a6e76",
   "metadata": {},
   "outputs": [],
   "source": [
    "#Import libraries\n",
    "import pandas as pd"
   ]
  },
  {
   "cell_type": "code",
   "execution_count": 2,
   "id": "e0328a70",
   "metadata": {},
   "outputs": [],
   "source": [
    "#Read and merge datasets\n",
    "df1 = pd.read_csv(r'dataset1.csv')\n",
    "df2 = pd.read_csv(r'dataset2.csv')\n",
    "merged = pd.concat([df1, df2], ignore_index=True)"
   ]
  },
  {
   "cell_type": "code",
   "execution_count": 3,
   "id": "254f7858",
   "metadata": {},
   "outputs": [],
   "source": [
    "#Delete any rows which do not have a name\n",
    "merged.dropna(subset=[\"name\"], inplace=True)\n",
    "\n",
    "#Convert price field to float data type to remove any zeros prepended\n",
    "merged['price'] = merged['price'].astype('float')"
   ]
  },
  {
   "cell_type": "code",
   "execution_count": 4,
   "id": "98deb9c0",
   "metadata": {},
   "outputs": [],
   "source": [
    "#Remove name titles\n",
    "merged['name'].replace(['Miss ','Mr\\. ','Ms\\. ','Mrs\\. ','Dr\\. ',' MD',' PhD', ' DDS', ' DVM', ' Jr\\.', ' II', ' III', ' IV'], '', inplace=True, regex=True)"
   ]
  },
  {
   "cell_type": "code",
   "execution_count": 5,
   "id": "e8fa0334",
   "metadata": {},
   "outputs": [],
   "source": [
    "#Split the name field into first_name, and last_name\n",
    "merged[['first_name','last_name']] = merged['name'].str.split(expand=True)"
   ]
  },
  {
   "cell_type": "code",
   "execution_count": 6,
   "id": "2d01d015",
   "metadata": {},
   "outputs": [],
   "source": [
    "#Create a new field named above_100, which is true if the price is strictly greater than 100\n",
    "merged['above_100'] = merged['price'] > 100"
   ]
  },
  {
   "cell_type": "code",
   "execution_count": 7,
   "id": "e2605aec",
   "metadata": {},
   "outputs": [],
   "source": [
    "merged.to_csv('processed_dataset.csv')"
   ]
  }
 ],
 "metadata": {
  "kernelspec": {
   "display_name": "Python 3 (ipykernel)",
   "language": "python",
   "name": "python3"
  },
  "language_info": {
   "codemirror_mode": {
    "name": "ipython",
    "version": 3
   },
   "file_extension": ".py",
   "mimetype": "text/x-python",
   "name": "python",
   "nbconvert_exporter": "python",
   "pygments_lexer": "ipython3",
   "version": "3.9.7"
  }
 },
 "nbformat": 4,
 "nbformat_minor": 5
}
